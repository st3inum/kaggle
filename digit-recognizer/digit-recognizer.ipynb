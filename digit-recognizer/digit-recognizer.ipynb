{
 "cells": [
  {
   "cell_type": "code",
   "execution_count": 1,
   "source": [
    "from tensorflow import keras\n",
    "from tensorflow.keras import layers\n",
    "import pandas as pd\n",
    "import numpy as np\n",
    "import matplotlib as mp\n",
    "import tensorflow as tf\n",
    "from sklearn.model_selection import train_test_split\n",
    "from tensorflow.keras.callbacks import EarlyStopping"
   ],
   "outputs": [
    {
     "output_type": "stream",
     "name": "stderr",
     "text": [
      "2021-09-23 12:00:29.729357: W tensorflow/stream_executor/platform/default/dso_loader.cc:64] Could not load dynamic library 'libcudart.so.11.0'; dlerror: libcudart.so.11.0: cannot open shared object file: No such file or directory\n",
      "2021-09-23 12:00:29.729381: I tensorflow/stream_executor/cuda/cudart_stub.cc:29] Ignore above cudart dlerror if you do not have a GPU set up on your machine.\n"
     ]
    }
   ],
   "metadata": {}
  },
  {
   "cell_type": "code",
   "execution_count": 2,
   "source": [
    "train_data = pd.read_csv(\"~/training/digit-recognizer/train.csv\")\n",
    "test_data = pd.read_csv(\"~/training/digit-recognizer/test.csv\")"
   ],
   "outputs": [],
   "metadata": {}
  },
  {
   "cell_type": "code",
   "execution_count": 3,
   "source": [
    "train_data.head(2)"
   ],
   "outputs": [
    {
     "output_type": "execute_result",
     "data": {
      "text/html": [
       "<div>\n",
       "<style scoped>\n",
       "    .dataframe tbody tr th:only-of-type {\n",
       "        vertical-align: middle;\n",
       "    }\n",
       "\n",
       "    .dataframe tbody tr th {\n",
       "        vertical-align: top;\n",
       "    }\n",
       "\n",
       "    .dataframe thead th {\n",
       "        text-align: right;\n",
       "    }\n",
       "</style>\n",
       "<table border=\"1\" class=\"dataframe\">\n",
       "  <thead>\n",
       "    <tr style=\"text-align: right;\">\n",
       "      <th></th>\n",
       "      <th>label</th>\n",
       "      <th>pixel0</th>\n",
       "      <th>pixel1</th>\n",
       "      <th>pixel2</th>\n",
       "      <th>pixel3</th>\n",
       "      <th>pixel4</th>\n",
       "      <th>pixel5</th>\n",
       "      <th>pixel6</th>\n",
       "      <th>pixel7</th>\n",
       "      <th>pixel8</th>\n",
       "      <th>...</th>\n",
       "      <th>pixel774</th>\n",
       "      <th>pixel775</th>\n",
       "      <th>pixel776</th>\n",
       "      <th>pixel777</th>\n",
       "      <th>pixel778</th>\n",
       "      <th>pixel779</th>\n",
       "      <th>pixel780</th>\n",
       "      <th>pixel781</th>\n",
       "      <th>pixel782</th>\n",
       "      <th>pixel783</th>\n",
       "    </tr>\n",
       "  </thead>\n",
       "  <tbody>\n",
       "    <tr>\n",
       "      <th>0</th>\n",
       "      <td>1</td>\n",
       "      <td>0</td>\n",
       "      <td>0</td>\n",
       "      <td>0</td>\n",
       "      <td>0</td>\n",
       "      <td>0</td>\n",
       "      <td>0</td>\n",
       "      <td>0</td>\n",
       "      <td>0</td>\n",
       "      <td>0</td>\n",
       "      <td>...</td>\n",
       "      <td>0</td>\n",
       "      <td>0</td>\n",
       "      <td>0</td>\n",
       "      <td>0</td>\n",
       "      <td>0</td>\n",
       "      <td>0</td>\n",
       "      <td>0</td>\n",
       "      <td>0</td>\n",
       "      <td>0</td>\n",
       "      <td>0</td>\n",
       "    </tr>\n",
       "    <tr>\n",
       "      <th>1</th>\n",
       "      <td>0</td>\n",
       "      <td>0</td>\n",
       "      <td>0</td>\n",
       "      <td>0</td>\n",
       "      <td>0</td>\n",
       "      <td>0</td>\n",
       "      <td>0</td>\n",
       "      <td>0</td>\n",
       "      <td>0</td>\n",
       "      <td>0</td>\n",
       "      <td>...</td>\n",
       "      <td>0</td>\n",
       "      <td>0</td>\n",
       "      <td>0</td>\n",
       "      <td>0</td>\n",
       "      <td>0</td>\n",
       "      <td>0</td>\n",
       "      <td>0</td>\n",
       "      <td>0</td>\n",
       "      <td>0</td>\n",
       "      <td>0</td>\n",
       "    </tr>\n",
       "  </tbody>\n",
       "</table>\n",
       "<p>2 rows × 785 columns</p>\n",
       "</div>"
      ],
      "text/plain": [
       "   label  pixel0  pixel1  pixel2  pixel3  pixel4  pixel5  pixel6  pixel7  \\\n",
       "0      1       0       0       0       0       0       0       0       0   \n",
       "1      0       0       0       0       0       0       0       0       0   \n",
       "\n",
       "   pixel8  ...  pixel774  pixel775  pixel776  pixel777  pixel778  pixel779  \\\n",
       "0       0  ...         0         0         0         0         0         0   \n",
       "1       0  ...         0         0         0         0         0         0   \n",
       "\n",
       "   pixel780  pixel781  pixel782  pixel783  \n",
       "0         0         0         0         0  \n",
       "1         0         0         0         0  \n",
       "\n",
       "[2 rows x 785 columns]"
      ]
     },
     "metadata": {},
     "execution_count": 3
    }
   ],
   "metadata": {}
  },
  {
   "cell_type": "code",
   "execution_count": 4,
   "source": [
    "test_data.head(2)"
   ],
   "outputs": [
    {
     "output_type": "execute_result",
     "data": {
      "text/html": [
       "<div>\n",
       "<style scoped>\n",
       "    .dataframe tbody tr th:only-of-type {\n",
       "        vertical-align: middle;\n",
       "    }\n",
       "\n",
       "    .dataframe tbody tr th {\n",
       "        vertical-align: top;\n",
       "    }\n",
       "\n",
       "    .dataframe thead th {\n",
       "        text-align: right;\n",
       "    }\n",
       "</style>\n",
       "<table border=\"1\" class=\"dataframe\">\n",
       "  <thead>\n",
       "    <tr style=\"text-align: right;\">\n",
       "      <th></th>\n",
       "      <th>pixel0</th>\n",
       "      <th>pixel1</th>\n",
       "      <th>pixel2</th>\n",
       "      <th>pixel3</th>\n",
       "      <th>pixel4</th>\n",
       "      <th>pixel5</th>\n",
       "      <th>pixel6</th>\n",
       "      <th>pixel7</th>\n",
       "      <th>pixel8</th>\n",
       "      <th>pixel9</th>\n",
       "      <th>...</th>\n",
       "      <th>pixel774</th>\n",
       "      <th>pixel775</th>\n",
       "      <th>pixel776</th>\n",
       "      <th>pixel777</th>\n",
       "      <th>pixel778</th>\n",
       "      <th>pixel779</th>\n",
       "      <th>pixel780</th>\n",
       "      <th>pixel781</th>\n",
       "      <th>pixel782</th>\n",
       "      <th>pixel783</th>\n",
       "    </tr>\n",
       "  </thead>\n",
       "  <tbody>\n",
       "    <tr>\n",
       "      <th>0</th>\n",
       "      <td>0</td>\n",
       "      <td>0</td>\n",
       "      <td>0</td>\n",
       "      <td>0</td>\n",
       "      <td>0</td>\n",
       "      <td>0</td>\n",
       "      <td>0</td>\n",
       "      <td>0</td>\n",
       "      <td>0</td>\n",
       "      <td>0</td>\n",
       "      <td>...</td>\n",
       "      <td>0</td>\n",
       "      <td>0</td>\n",
       "      <td>0</td>\n",
       "      <td>0</td>\n",
       "      <td>0</td>\n",
       "      <td>0</td>\n",
       "      <td>0</td>\n",
       "      <td>0</td>\n",
       "      <td>0</td>\n",
       "      <td>0</td>\n",
       "    </tr>\n",
       "    <tr>\n",
       "      <th>1</th>\n",
       "      <td>0</td>\n",
       "      <td>0</td>\n",
       "      <td>0</td>\n",
       "      <td>0</td>\n",
       "      <td>0</td>\n",
       "      <td>0</td>\n",
       "      <td>0</td>\n",
       "      <td>0</td>\n",
       "      <td>0</td>\n",
       "      <td>0</td>\n",
       "      <td>...</td>\n",
       "      <td>0</td>\n",
       "      <td>0</td>\n",
       "      <td>0</td>\n",
       "      <td>0</td>\n",
       "      <td>0</td>\n",
       "      <td>0</td>\n",
       "      <td>0</td>\n",
       "      <td>0</td>\n",
       "      <td>0</td>\n",
       "      <td>0</td>\n",
       "    </tr>\n",
       "  </tbody>\n",
       "</table>\n",
       "<p>2 rows × 784 columns</p>\n",
       "</div>"
      ],
      "text/plain": [
       "   pixel0  pixel1  pixel2  pixel3  pixel4  pixel5  pixel6  pixel7  pixel8  \\\n",
       "0       0       0       0       0       0       0       0       0       0   \n",
       "1       0       0       0       0       0       0       0       0       0   \n",
       "\n",
       "   pixel9  ...  pixel774  pixel775  pixel776  pixel777  pixel778  pixel779  \\\n",
       "0       0  ...         0         0         0         0         0         0   \n",
       "1       0  ...         0         0         0         0         0         0   \n",
       "\n",
       "   pixel780  pixel781  pixel782  pixel783  \n",
       "0         0         0         0         0  \n",
       "1         0         0         0         0  \n",
       "\n",
       "[2 rows x 784 columns]"
      ]
     },
     "metadata": {},
     "execution_count": 4
    }
   ],
   "metadata": {}
  },
  {
   "cell_type": "code",
   "execution_count": 5,
   "source": [
    "y = train_data['label']\n",
    "X = train_data.loc[:, train_data.columns != 'label']"
   ],
   "outputs": [],
   "metadata": {}
  },
  {
   "cell_type": "code",
   "execution_count": 6,
   "source": [
    "X_train, X_val, y_train, y_val = train_test_split(X,y, train_size=0.80)\n",
    "X_test = test_data"
   ],
   "outputs": [],
   "metadata": {}
  },
  {
   "cell_type": "code",
   "execution_count": 7,
   "source": [
    "print(X_train.shape, X_val.shape, X_test.shape)"
   ],
   "outputs": [
    {
     "output_type": "stream",
     "name": "stdout",
     "text": [
      "(33600, 784) (8400, 784) (28000, 784)\n"
     ]
    }
   ],
   "metadata": {}
  },
  {
   "cell_type": "code",
   "execution_count": 8,
   "source": [
    "def convertTo28x28(data):\n",
    "    return np.array(data).reshape(-1, 28, 28, 1)"
   ],
   "outputs": [],
   "metadata": {}
  },
  {
   "cell_type": "code",
   "execution_count": 9,
   "source": [
    "X_train = convertTo28x28(X_train)\n",
    "X_val = convertTo28x28(X_val)\n",
    "X_test = convertTo28x28(X_test)"
   ],
   "outputs": [],
   "metadata": {}
  },
  {
   "cell_type": "code",
   "execution_count": 10,
   "source": [
    "print(X_train.shape, X_val.shape, X_test.shape)"
   ],
   "outputs": [
    {
     "output_type": "stream",
     "name": "stdout",
     "text": [
      "(33600, 28, 28, 1) (8400, 28, 28, 1) (28000, 28, 28, 1)\n"
     ]
    }
   ],
   "metadata": {}
  },
  {
   "cell_type": "code",
   "execution_count": 19,
   "source": [
    "model = keras.Sequential([\n",
    "    keras.Input(X_train[0].shape),\n",
    "    layers.Conv2D(32, 3, strides=(2,2), padding = 'valid', activation = 'relu'),\n",
    "    layers.BatchNormalization(),\n",
    "    layers.MaxPool2D(pool_size = (3,3), strides = (1,1), padding = 'valid'),\n",
    "\n",
    "    layers.Conv2D(64, 3, strides=(2,2), padding = 'valid', activation = 'relu'),\n",
    "    layers.BatchNormalization(),\n",
    "    # layers.AveragePooling2D(pool_size = (3,3), strides = (1,1), padding = 'valid'),\n",
    "    layers.MaxPool2D(pool_size = (3,3), strides = (1,1), padding = 'valid'),\n",
    "\n",
    "    layers.Conv2D(128, 3, strides=(2,2), padding = 'valid', activation = 'relu'),\n",
    "\n",
    "    layers.Flatten(),\n",
    "\n",
    "\n",
    "    layers.Dense(256, activation='leaky_relu'),\n",
    "    layers.Dense(512, activation='relu', kernel_regularizer='l1_l2'),\n",
    "    # layers.Dense(1024, activation='relu', kernel_regularizer='l1_l2'),\n",
    "    # layers.Dense(512, activation='relu', kernel_regularizer='l1_l2'),\n",
    "    layers.Dense(256, activation='relu', kernel_regularizer='l1_l2'),\n",
    "    layers.Dense(128, activation='relu', kernel_regularizer='l1_l2'),\n",
    "    layers.Dense(32, activation='relu', kernel_regularizer='l1_l2'),\n",
    "    # layers.Dense(10, activation='relu', kernel_regularizer='l1_l2'),\n",
    "    layers.Dense(10, activation='softmax'),\n",
    "])"
   ],
   "outputs": [],
   "metadata": {}
  },
  {
   "cell_type": "code",
   "execution_count": 12,
   "source": [
    "model.summary()"
   ],
   "outputs": [
    {
     "output_type": "stream",
     "name": "stdout",
     "text": [
      "Model: \"sequential\"\n",
      "_________________________________________________________________\n",
      "Layer (type)                 Output Shape              Param #   \n",
      "=================================================================\n",
      "conv2d (Conv2D)              (None, 13, 13, 32)        320       \n",
      "_________________________________________________________________\n",
      "batch_normalization (BatchNo (None, 13, 13, 32)        128       \n",
      "_________________________________________________________________\n",
      "max_pooling2d (MaxPooling2D) (None, 11, 11, 32)        0         \n",
      "_________________________________________________________________\n",
      "conv2d_1 (Conv2D)            (None, 5, 5, 64)          18496     \n",
      "_________________________________________________________________\n",
      "batch_normalization_1 (Batch (None, 5, 5, 64)          256       \n",
      "_________________________________________________________________\n",
      "average_pooling2d (AveragePo (None, 3, 3, 64)          0         \n",
      "_________________________________________________________________\n",
      "conv2d_2 (Conv2D)            (None, 1, 1, 128)         73856     \n",
      "_________________________________________________________________\n",
      "flatten (Flatten)            (None, 128)               0         \n",
      "_________________________________________________________________\n",
      "dense (Dense)                (None, 256)               33024     \n",
      "_________________________________________________________________\n",
      "dense_1 (Dense)              (None, 512)               131584    \n",
      "_________________________________________________________________\n",
      "dense_2 (Dense)              (None, 256)               131328    \n",
      "_________________________________________________________________\n",
      "dense_3 (Dense)              (None, 128)               32896     \n",
      "_________________________________________________________________\n",
      "dense_4 (Dense)              (None, 32)                4128      \n",
      "_________________________________________________________________\n",
      "dense_5 (Dense)              (None, 10)                330       \n",
      "=================================================================\n",
      "Total params: 426,346\n",
      "Trainable params: 426,154\n",
      "Non-trainable params: 192\n",
      "_________________________________________________________________\n"
     ]
    }
   ],
   "metadata": {}
  },
  {
   "cell_type": "code",
   "execution_count": 13,
   "source": [
    "model.compile(\n",
    "    optimizer='adam',\n",
    "    loss='sparse_categorical_crossentropy',\n",
    "    metrics=['accuracy'],\n",
    ")"
   ],
   "outputs": [],
   "metadata": {}
  },
  {
   "cell_type": "code",
   "execution_count": 14,
   "source": [
    "early_stopping = EarlyStopping(\n",
    "    min_delta=0.001, # minimium amount of change to count as an improvement\n",
    "    patience=20, # how many epochs to wait before stopping\n",
    "    restore_best_weights=True,\n",
    ")"
   ],
   "outputs": [],
   "metadata": {}
  },
  {
   "cell_type": "code",
   "execution_count": 15,
   "source": [
    "history = model.fit(\n",
    "    X_train, y_train,\n",
    "    validation_data=(X_val, y_val),\n",
    "    batch_size=512,\n",
    "    epochs=70,\n",
    "    callbacks=[early_stopping],\n",
    "    # verbose=0, # hide the output because we have so many epochs\n",
    ")"
   ],
   "outputs": [
    {
     "output_type": "stream",
     "name": "stderr",
     "text": [
      "2021-09-23 12:00:34.243959: I tensorflow/compiler/mlir/mlir_graph_optimization_pass.cc:185] None of the MLIR Optimization Passes are enabled (registered 2)\n"
     ]
    },
    {
     "output_type": "stream",
     "name": "stdout",
     "text": [
      "Epoch 1/50\n",
      "66/66 [==============================] - 6s 76ms/step - loss: 73.3186 - accuracy: 0.5800 - val_loss: 21.3543 - val_accuracy: 0.2902\n",
      "Epoch 2/50\n",
      "66/66 [==============================] - 6s 85ms/step - loss: 7.2426 - accuracy: 0.8338 - val_loss: 3.2206 - val_accuracy: 0.6505\n",
      "Epoch 3/50\n",
      "66/66 [==============================] - 5s 83ms/step - loss: 1.9469 - accuracy: 0.9079 - val_loss: 1.5516 - val_accuracy: 0.9069\n",
      "Epoch 4/50\n",
      "66/66 [==============================] - 5s 82ms/step - loss: 1.3318 - accuracy: 0.9356 - val_loss: 1.2809 - val_accuracy: 0.9237\n",
      "Epoch 5/50\n",
      "66/66 [==============================] - 5s 69ms/step - loss: 1.1248 - accuracy: 0.9502 - val_loss: 1.1989 - val_accuracy: 0.9090\n",
      "Epoch 6/50\n",
      "66/66 [==============================] - 5s 71ms/step - loss: 1.0104 - accuracy: 0.9584 - val_loss: 1.0151 - val_accuracy: 0.9458\n",
      "Epoch 7/50\n",
      "66/66 [==============================] - 5s 70ms/step - loss: 0.9314 - accuracy: 0.9636 - val_loss: 0.9440 - val_accuracy: 0.9539\n",
      "Epoch 8/50\n",
      "66/66 [==============================] - 5s 69ms/step - loss: 0.8703 - accuracy: 0.9675 - val_loss: 0.8596 - val_accuracy: 0.9607\n",
      "Epoch 9/50\n",
      "66/66 [==============================] - 5s 69ms/step - loss: 0.8202 - accuracy: 0.9719 - val_loss: 0.8176 - val_accuracy: 0.9636\n",
      "Epoch 10/50\n",
      "66/66 [==============================] - 5s 69ms/step - loss: 0.7824 - accuracy: 0.9730 - val_loss: 0.8585 - val_accuracy: 0.9426\n",
      "Epoch 11/50\n",
      "66/66 [==============================] - 5s 68ms/step - loss: 0.7482 - accuracy: 0.9757 - val_loss: 0.7699 - val_accuracy: 0.9636\n",
      "Epoch 12/50\n",
      "66/66 [==============================] - 5s 69ms/step - loss: 0.7200 - accuracy: 0.9765 - val_loss: 0.7575 - val_accuracy: 0.9587\n",
      "Epoch 13/50\n",
      "66/66 [==============================] - 5s 69ms/step - loss: 0.6920 - accuracy: 0.9788 - val_loss: 0.7229 - val_accuracy: 0.9636\n",
      "Epoch 14/50\n",
      "66/66 [==============================] - 5s 69ms/step - loss: 0.6652 - accuracy: 0.9807 - val_loss: 0.6922 - val_accuracy: 0.9683\n",
      "Epoch 15/50\n",
      "66/66 [==============================] - 5s 69ms/step - loss: 0.6435 - accuracy: 0.9816 - val_loss: 0.6670 - val_accuracy: 0.9719\n",
      "Epoch 16/50\n",
      "66/66 [==============================] - 5s 69ms/step - loss: 0.6272 - accuracy: 0.9831 - val_loss: 0.6530 - val_accuracy: 0.9696\n",
      "Epoch 17/50\n",
      "66/66 [==============================] - 5s 69ms/step - loss: 0.6126 - accuracy: 0.9840 - val_loss: 0.6683 - val_accuracy: 0.9638\n",
      "Epoch 18/50\n",
      "66/66 [==============================] - 5s 69ms/step - loss: 0.6016 - accuracy: 0.9845 - val_loss: 0.6394 - val_accuracy: 0.9685\n",
      "Epoch 19/50\n",
      "66/66 [==============================] - 5s 68ms/step - loss: 0.5865 - accuracy: 0.9862 - val_loss: 0.6496 - val_accuracy: 0.9630\n",
      "Epoch 20/50\n",
      "66/66 [==============================] - 5s 69ms/step - loss: 0.5756 - accuracy: 0.9869 - val_loss: 0.6451 - val_accuracy: 0.9633\n",
      "Epoch 21/50\n",
      "66/66 [==============================] - 5s 83ms/step - loss: 0.5673 - accuracy: 0.9877 - val_loss: 0.6714 - val_accuracy: 0.9529\n",
      "Epoch 22/50\n",
      "66/66 [==============================] - 5s 83ms/step - loss: 0.5622 - accuracy: 0.9881 - val_loss: 0.5934 - val_accuracy: 0.9719\n",
      "Epoch 23/50\n",
      "66/66 [==============================] - 6s 84ms/step - loss: 0.5474 - accuracy: 0.9904 - val_loss: 0.5802 - val_accuracy: 0.9760\n",
      "Epoch 24/50\n",
      "66/66 [==============================] - 6s 84ms/step - loss: 0.5413 - accuracy: 0.9903 - val_loss: 0.5912 - val_accuracy: 0.9727\n",
      "Epoch 25/50\n",
      "66/66 [==============================] - 6s 84ms/step - loss: 0.5313 - accuracy: 0.9912 - val_loss: 0.6006 - val_accuracy: 0.9664\n",
      "Epoch 26/50\n",
      "66/66 [==============================] - 5s 81ms/step - loss: 0.5271 - accuracy: 0.9910 - val_loss: 0.5767 - val_accuracy: 0.9720\n",
      "Epoch 27/50\n",
      "66/66 [==============================] - 5s 77ms/step - loss: 0.5207 - accuracy: 0.9926 - val_loss: 0.5791 - val_accuracy: 0.9735\n",
      "Epoch 28/50\n",
      "66/66 [==============================] - 5s 77ms/step - loss: 0.5155 - accuracy: 0.9926 - val_loss: 0.5620 - val_accuracy: 0.9750\n",
      "Epoch 29/50\n",
      "66/66 [==============================] - 5s 77ms/step - loss: 0.5097 - accuracy: 0.9930 - val_loss: 0.5551 - val_accuracy: 0.9769\n",
      "Epoch 30/50\n",
      "66/66 [==============================] - 5s 77ms/step - loss: 0.5055 - accuracy: 0.9938 - val_loss: 0.6391 - val_accuracy: 0.9502\n",
      "Epoch 31/50\n",
      "66/66 [==============================] - 5s 76ms/step - loss: 0.5005 - accuracy: 0.9943 - val_loss: 0.5720 - val_accuracy: 0.9685\n",
      "Epoch 32/50\n",
      "66/66 [==============================] - 5s 78ms/step - loss: 0.4973 - accuracy: 0.9945 - val_loss: 0.5455 - val_accuracy: 0.9762\n",
      "Epoch 33/50\n",
      "66/66 [==============================] - 5s 77ms/step - loss: 0.4912 - accuracy: 0.9955 - val_loss: 0.5487 - val_accuracy: 0.9748\n",
      "Epoch 34/50\n",
      "66/66 [==============================] - 5s 77ms/step - loss: 0.4924 - accuracy: 0.9948 - val_loss: 0.5528 - val_accuracy: 0.9735\n",
      "Epoch 35/50\n",
      "66/66 [==============================] - 5s 79ms/step - loss: 0.4865 - accuracy: 0.9964 - val_loss: 0.5456 - val_accuracy: 0.9745\n",
      "Epoch 36/50\n",
      "66/66 [==============================] - 5s 77ms/step - loss: 0.4826 - accuracy: 0.9968 - val_loss: 0.5470 - val_accuracy: 0.9740\n",
      "Epoch 37/50\n",
      "66/66 [==============================] - 5s 77ms/step - loss: 0.4812 - accuracy: 0.9965 - val_loss: 0.5560 - val_accuracy: 0.9720\n",
      "Epoch 38/50\n",
      "66/66 [==============================] - 5s 76ms/step - loss: 0.4773 - accuracy: 0.9972 - val_loss: 0.5350 - val_accuracy: 0.9773\n",
      "Epoch 39/50\n",
      "66/66 [==============================] - 5s 77ms/step - loss: 0.4756 - accuracy: 0.9969 - val_loss: 0.5449 - val_accuracy: 0.9726\n",
      "Epoch 40/50\n",
      "66/66 [==============================] - 5s 77ms/step - loss: 0.4716 - accuracy: 0.9974 - val_loss: 0.5370 - val_accuracy: 0.9757\n",
      "Epoch 41/50\n",
      "66/66 [==============================] - 5s 77ms/step - loss: 0.4681 - accuracy: 0.9977 - val_loss: 0.5257 - val_accuracy: 0.9767\n",
      "Epoch 42/50\n",
      "66/66 [==============================] - 5s 76ms/step - loss: 0.4651 - accuracy: 0.9980 - val_loss: 0.5210 - val_accuracy: 0.9789\n",
      "Epoch 43/50\n",
      "66/66 [==============================] - 5s 77ms/step - loss: 0.4627 - accuracy: 0.9979 - val_loss: 0.5211 - val_accuracy: 0.9777\n",
      "Epoch 44/50\n",
      "66/66 [==============================] - 5s 77ms/step - loss: 0.4584 - accuracy: 0.9985 - val_loss: 0.5285 - val_accuracy: 0.9743\n",
      "Epoch 45/50\n",
      "66/66 [==============================] - 5s 77ms/step - loss: 0.4572 - accuracy: 0.9982 - val_loss: 0.5316 - val_accuracy: 0.9725\n",
      "Epoch 46/50\n",
      "66/66 [==============================] - 5s 77ms/step - loss: 0.4546 - accuracy: 0.9983 - val_loss: 0.5089 - val_accuracy: 0.9810\n",
      "Epoch 47/50\n",
      "66/66 [==============================] - 5s 76ms/step - loss: 0.4509 - accuracy: 0.9990 - val_loss: 0.5075 - val_accuracy: 0.9786\n",
      "Epoch 48/50\n",
      "66/66 [==============================] - 5s 77ms/step - loss: 0.4492 - accuracy: 0.9989 - val_loss: 0.5146 - val_accuracy: 0.9761\n",
      "Epoch 49/50\n",
      "66/66 [==============================] - 5s 76ms/step - loss: 0.4478 - accuracy: 0.9990 - val_loss: 0.5215 - val_accuracy: 0.9756\n",
      "Epoch 50/50\n",
      "66/66 [==============================] - 5s 77ms/step - loss: 0.4471 - accuracy: 0.9989 - val_loss: 0.5143 - val_accuracy: 0.9774\n"
     ]
    }
   ],
   "metadata": {}
  },
  {
   "cell_type": "code",
   "execution_count": 16,
   "source": [
    "history_df = pd.DataFrame(history.history)\n",
    "# Start the plot at epoch 0\n",
    "history_df.loc[0:, ['loss', 'val_loss']].plot()\n",
    "history_df.loc[0:, ['accuracy', 'val_accuracy']].plot()"
   ],
   "outputs": [
    {
     "output_type": "execute_result",
     "data": {
      "text/plain": [
       "<AxesSubplot:>"
      ]
     },
     "metadata": {},
     "execution_count": 16
    },
    {
     "output_type": "display_data",
     "data": {
      "image/png": "[encoded data removed]",
      "text/plain": [
       "<Figure size 432x288 with 1 Axes>"
      ]
     },
     "metadata": {
      "needs_background": "light"
     }
    },
    {
     "output_type": "display_data",
     "data": {
      "image/png": "[encoded data removed]",
      "text/plain": [
       "<Figure size 432x288 with 1 Axes>"
      ]
     },
     "metadata": {
      "needs_background": "light"
     }
    }
   ],
   "metadata": {}
  },
  {
   "cell_type": "code",
   "execution_count": 17,
   "source": [
    "predictions = model.predict(X_test)\n",
    "predictions = np.argmax(predictions,axis=1)\n",
    "print(predictions.shape)"
   ],
   "outputs": [
    {
     "output_type": "stream",
     "name": "stdout",
     "text": [
      "(28000,)\n"
     ]
    }
   ],
   "metadata": {}
  },
  {
   "cell_type": "code",
   "execution_count": 18,
   "source": [
    "output = pd.DataFrame({'ImageId': list(range(1,1+len(predictions))), 'Label': predictions})\n",
    "output.to_csv('submission.csv', index=False)\n",
    "print(\"Your submission was successfully saved!\")"
   ],
   "outputs": [
    {
     "output_type": "stream",
     "name": "stdout",
     "text": [
      "Your submission was successfully saved!\n"
     ]
    }
   ],
   "metadata": {}
  },
  {
   "cell_type": "code",
   "execution_count": null,
   "source": [],
   "outputs": [],
   "metadata": {}
  }
 ],
 "metadata": {
  "orig_nbformat": 4,
  "language_info": {
   "name": "python",
   "version": "3.9.7",
   "mimetype": "text/x-python",
   "codemirror_mode": {
    "name": "ipython",
    "version": 3
   },
   "pygments_lexer": "ipython3",
   "nbconvert_exporter": "python",
   "file_extension": ".py"
  },
  "kernelspec": {
   "name": "python3",
   "display_name": "Python 3.9.7 64-bit"
  },
  "interpreter": {
   "hash": "e7370f93d1d0cde622a1f8e1c04877d8463912d04d973331ad4851f04de6915a"
  }
 },
 "nbformat": 4,
 "nbformat_minor": 2
}